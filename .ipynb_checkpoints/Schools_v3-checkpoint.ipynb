{
 "cells": [
  {
   "cell_type": "markdown",
   "metadata": {
    "toc": true
   },
   "source": [
    "<h1>Table of Contents<span class=\"tocSkip\"></span></h1>\n",
    "<div class=\"toc\"><ul class=\"toc-item\"><li><span><a href=\"#Key-statistics-of-primary-state-schools-in-London\" data-toc-modified-id=\"Key-statistics-of-primary-state-schools-in-London-1\"><span class=\"toc-item-num\">1&nbsp;&nbsp;</span>Key statistics of primary state schools in London</a></span><ul class=\"toc-item\"><li><span><a href=\"#Load-libraries-and-data\" data-toc-modified-id=\"Load-libraries-and-data-1.1\"><span class=\"toc-item-num\">1.1&nbsp;&nbsp;</span>Load libraries and data</a></span></li><li><span><a href=\"#Exploratory-data-analysis\" data-toc-modified-id=\"Exploratory-data-analysis-1.2\"><span class=\"toc-item-num\">1.2&nbsp;&nbsp;</span>Exploratory data analysis</a></span><ul class=\"toc-item\"><li><span><a href=\"#Key-metrics-analysis\" data-toc-modified-id=\"Key-metrics-analysis-1.2.1\"><span class=\"toc-item-num\">1.2.1&nbsp;&nbsp;</span>Key metrics analysis</a></span></li><li><span><a href=\"#Choropleth-map\" data-toc-modified-id=\"Choropleth-map-1.2.2\"><span class=\"toc-item-num\">1.2.2&nbsp;&nbsp;</span>Choropleth map</a></span></li></ul></li><li><span><a href=\"#Results\" data-toc-modified-id=\"Results-1.3\"><span class=\"toc-item-num\">1.3&nbsp;&nbsp;</span>Results</a></span></li></ul></li></ul></div>"
   ]
  },
  {
   "cell_type": "markdown",
   "metadata": {},
   "source": [
    "# Key statistics of primary state schools in London"
   ]
  },
  {
   "cell_type": "markdown",
   "metadata": {},
   "source": [
    "## Load libraries and data"
   ]
  },
  {
   "cell_type": "code",
   "execution_count": 1,
   "metadata": {},
   "outputs": [],
   "source": [
    "import pandas as pd\n",
    "import seaborn as sns\n",
    "import matplotlib.pyplot as plt\n",
    "\n",
    "from urllib.request import urlopen\n",
    "import json\n",
    "\n",
    "import plotly\n",
    "import plotly.express as px\n",
    "import plotly.graph_objects as go\n",
    "\n",
    "#import folium\n",
    "#from folium import Map, FeatureGroup, Marker, LayerControl\n",
    "\n",
    "#turn off warnings\n",
    "import warnings\n",
    "warnings.filterwarnings('ignore')"
   ]
  },
  {
   "cell_type": "code",
   "execution_count": 2,
   "metadata": {},
   "outputs": [
    {
     "name": "stdout",
     "output_type": "stream",
     "text": [
      "4.14.3\n"
     ]
    }
   ],
   "source": [
    "print(plotly.__version__)"
   ]
  },
  {
   "cell_type": "code",
   "execution_count": 3,
   "metadata": {},
   "outputs": [],
   "source": [
    "#!pip install -U plotly"
   ]
  },
  {
   "cell_type": "code",
   "execution_count": 4,
   "metadata": {},
   "outputs": [],
   "source": [
    "# define graphs style\n",
    "plt.style.use('ggplot') \n",
    "\n",
    "#function for charts\n",
    "def title(title):\n",
    "    plt.title(title, size = 14, color = 'gray')\n",
    "    plt.show()"
   ]
  },
  {
   "cell_type": "markdown",
   "metadata": {},
   "source": [
    "The dataset contains 277 parameters. Lots of parameters are duplicates (for example total number of students, number of boys, number of girls). \n",
    "\n",
    "We will load only the following:\n",
    "- `Region` to filter data on London\n",
    "- `URN` - id of the school\n",
    "- `LA name` - local authority name\n",
    "- `School name`\n",
    "- `Phase-type grouping` - to filter only primary state schools\n",
    "- `District Administrative name` \n",
    "- `Academy_flag` - to exclude independent, i.e. private schools\n",
    "- `Number of reception pupils (year R)` - variable to analyze\n",
    "- `% of pupils known to be eligible for free school meals` - variable to analyze. By knowing number of pupils eligible for free school meals we will know the social portrait of the area, i.e. how many families are receiving social benefits from the government.\n",
    "- `% of pupils classified as white British ethnic origin` - variable to analyze\n",
    "- `% of pupils classified as any other white background ethnic origin` - variable to analyze\n",
    "- `% of pupils whose first language is known or believed to be other than English` - variable to analyze"
   ]
  },
  {
   "cell_type": "code",
   "execution_count": 5,
   "metadata": {},
   "outputs": [],
   "source": [
    "#load data\n",
    "\n",
    "fields = ['Region', 'URN', 'LA name', 'School Name', 'Phase-type grouping',\n",
    "          'District Administrative name','Academy_flag',\n",
    "          'Number of reception pupils (year R)', '% of pupils known to be eligible for free school meals',\n",
    "          '% of pupils classified as white British ethnic origin',\n",
    "          '% of pupils classified as any other white background ethnic origin',\n",
    "          '% of pupils whose first language is known or believed to be other than English']\n",
    "\n",
    "df = pd.read_csv(r'C:\\Users\\Inga\\Desktop\\IBM Course\\IBM Notebooks\\9_Capstone\\spc_school_level_underlying_data.csv',\n",
    "                  encoding='ISO-8859-1', usecols=fields)"
   ]
  },
  {
   "cell_type": "code",
   "execution_count": 6,
   "metadata": {},
   "outputs": [],
   "source": [
    "#rename columns\n",
    "df.columns = ['region', 'urn', 'la', 'name', 'phase_type_grouping',\n",
    "          'district','academy_flag','num_reception','perc_fsm','perc_british_origin',\n",
    "              'perc_white_origin','perc_non_eng_lang']"
   ]
  },
  {
   "cell_type": "code",
   "execution_count": 7,
   "metadata": {},
   "outputs": [],
   "source": [
    "df = df[(df['region'] == 'London')] #filter London schools only\n",
    "\n",
    "df = df[(df['academy_flag'] != 'Independent')] #exclude private schools\n",
    "\n",
    "df = df[(df['phase_type_grouping'] == 'State-funded primary')] #filter only state primary schools\n",
    "\n",
    "df['perc_br_wh_origin'] = df['perc_british_origin'] + df['perc_white_origin'] #combine percentage of white students\n",
    "\n",
    "#drop paramteres used for filtering\n",
    "df = df.drop(columns= ['region','phase_type_grouping','perc_british_origin','perc_white_origin']) "
   ]
  },
  {
   "cell_type": "code",
   "execution_count": 8,
   "metadata": {},
   "outputs": [
    {
     "data": {
      "text/html": [
       "<div>\n",
       "<style scoped>\n",
       "    .dataframe tbody tr th:only-of-type {\n",
       "        vertical-align: middle;\n",
       "    }\n",
       "\n",
       "    .dataframe tbody tr th {\n",
       "        vertical-align: top;\n",
       "    }\n",
       "\n",
       "    .dataframe thead th {\n",
       "        text-align: right;\n",
       "    }\n",
       "</style>\n",
       "<table border=\"1\" class=\"dataframe\">\n",
       "  <thead>\n",
       "    <tr style=\"text-align: right;\">\n",
       "      <th></th>\n",
       "      <th>urn</th>\n",
       "      <th>la</th>\n",
       "      <th>name</th>\n",
       "      <th>district</th>\n",
       "      <th>academy_flag</th>\n",
       "      <th>num_reception</th>\n",
       "      <th>perc_fsm</th>\n",
       "      <th>perc_non_eng_lang</th>\n",
       "      <th>perc_br_wh_origin</th>\n",
       "    </tr>\n",
       "  </thead>\n",
       "  <tbody>\n",
       "    <tr>\n",
       "      <th>147</th>\n",
       "      <td>136431</td>\n",
       "      <td>Barking and Dagenham</td>\n",
       "      <td>George Carey Church of England Primary School</td>\n",
       "      <td>Barking and Dagenham</td>\n",
       "      <td>LA Maintained</td>\n",
       "      <td>82</td>\n",
       "      <td>17.0</td>\n",
       "      <td>54.1</td>\n",
       "      <td>16.7</td>\n",
       "    </tr>\n",
       "    <tr>\n",
       "      <th>795</th>\n",
       "      <td>100900</td>\n",
       "      <td>Tower Hamlets</td>\n",
       "      <td>Cyril Jackson Primary School</td>\n",
       "      <td>Tower Hamlets</td>\n",
       "      <td>LA Maintained</td>\n",
       "      <td>57</td>\n",
       "      <td>25.5</td>\n",
       "      <td>71.3</td>\n",
       "      <td>8.7</td>\n",
       "    </tr>\n",
       "    <tr>\n",
       "      <th>1356</th>\n",
       "      <td>100818</td>\n",
       "      <td>Southwark</td>\n",
       "      <td>Pilgrims' Way Primary School</td>\n",
       "      <td>Southwark</td>\n",
       "      <td>LA Maintained</td>\n",
       "      <td>27</td>\n",
       "      <td>37.0</td>\n",
       "      <td>57.3</td>\n",
       "      <td>21.1</td>\n",
       "    </tr>\n",
       "  </tbody>\n",
       "</table>\n",
       "</div>"
      ],
      "text/plain": [
       "         urn                    la  \\\n",
       "147   136431  Barking and Dagenham   \n",
       "795   100900         Tower Hamlets   \n",
       "1356  100818             Southwark   \n",
       "\n",
       "                                               name              district  \\\n",
       "147   George Carey Church of England Primary School  Barking and Dagenham   \n",
       "795                    Cyril Jackson Primary School         Tower Hamlets   \n",
       "1356                   Pilgrims' Way Primary School             Southwark   \n",
       "\n",
       "       academy_flag  num_reception  perc_fsm  perc_non_eng_lang  \\\n",
       "147   LA Maintained             82      17.0               54.1   \n",
       "795   LA Maintained             57      25.5               71.3   \n",
       "1356  LA Maintained             27      37.0               57.3   \n",
       "\n",
       "      perc_br_wh_origin  \n",
       "147                16.7  \n",
       "795                 8.7  \n",
       "1356               21.1  "
      ]
     },
     "execution_count": 8,
     "metadata": {},
     "output_type": "execute_result"
    }
   ],
   "source": [
    "#check df\n",
    "df.sample(3)"
   ]
  },
  {
   "cell_type": "markdown",
   "metadata": {},
   "source": [
    "We will also need some indication of grades received by pupils.\n",
    "\n",
    "We will use Key Stage 2 (KS2) data from gov website, specifically \"Percentage of pupils achieving a high score in reading and maths and working at greater depth in writing\"\n",
    "\n",
    "Key Stage 2 is the legal term for the four years of schooling in maintained schools in England and Wales normally known as Year 3, Year 4, Year 5 and Year 6, when the pupils are aged between 7 and 11 years. Key Stage 2 SATs are the National Curriculum tests taken by Year 6 pupils. SATs assess English reading, grammar, punctuation and spelling, and Maths. They are a great way to determine progress and act as a reflection of what your child has learned throughout their primary school years.\n",
    "\n",
    "https://www.compare-school-performance.service.gov.uk/download-data?currentstep=datatypes&regiontype=all&la=0&downloadYear=2018-2019&datatypes=ks2"
   ]
  },
  {
   "cell_type": "code",
   "execution_count": 9,
   "metadata": {},
   "outputs": [],
   "source": [
    "#load data\n",
    "\n",
    "fields_ks2 = ['URN', 'PTRWM_HIGH']\n",
    "\n",
    "ks2 = pd.read_csv(r'C:\\Users\\Inga\\Desktop\\IBM Course\\IBM Notebooks\\9_Capstone\\england_ks2final.csv', \n",
    "                  usecols = fields_ks2)\n",
    "\n",
    "ks2.columns = ['urn','perc_high_score']"
   ]
  },
  {
   "cell_type": "code",
   "execution_count": 10,
   "metadata": {},
   "outputs": [],
   "source": [
    "# merge grades with the rest of the df\n",
    "df = df.merge(ks2, how = 'left', on='urn')"
   ]
  },
  {
   "cell_type": "code",
   "execution_count": 11,
   "metadata": {},
   "outputs": [
    {
     "name": "stdout",
     "output_type": "stream",
     "text": [
      "<class 'pandas.core.frame.DataFrame'>\n",
      "Int64Index: 1814 entries, 0 to 1813\n",
      "Data columns (total 10 columns):\n",
      " #   Column             Non-Null Count  Dtype  \n",
      "---  ------             --------------  -----  \n",
      " 0   urn                1814 non-null   object \n",
      " 1   la                 1814 non-null   object \n",
      " 2   name               1814 non-null   object \n",
      " 3   district           1814 non-null   object \n",
      " 4   academy_flag       1814 non-null   object \n",
      " 5   num_reception      1814 non-null   int64  \n",
      " 6   perc_fsm           1814 non-null   float64\n",
      " 7   perc_non_eng_lang  1814 non-null   float64\n",
      " 8   perc_br_wh_origin  1814 non-null   float64\n",
      " 9   perc_high_score    1588 non-null   object \n",
      "dtypes: float64(3), int64(1), object(6)\n",
      "memory usage: 155.9+ KB\n"
     ]
    }
   ],
   "source": [
    "df.info()"
   ]
  },
  {
   "cell_type": "code",
   "execution_count": 12,
   "metadata": {},
   "outputs": [
    {
     "data": {
      "text/plain": [
       "urn                   0.000000\n",
       "la                    0.000000\n",
       "name                  0.000000\n",
       "district              0.000000\n",
       "academy_flag          0.000000\n",
       "num_reception         0.000000\n",
       "perc_fsm              0.000000\n",
       "perc_non_eng_lang     0.000000\n",
       "perc_br_wh_origin     0.000000\n",
       "perc_high_score      12.458655\n",
       "dtype: float64"
      ]
     },
     "execution_count": 12,
     "metadata": {},
     "output_type": "execute_result"
    }
   ],
   "source": [
    "# check NaN\n",
    "df.isnull().mean() * 100"
   ]
  },
  {
   "cell_type": "markdown",
   "metadata": {},
   "source": [
    "There is 12.5% observations / schools which are missing in KS2 data. Also the data type is object so we need to change it to float, as there are some letters instead of percentage for some schools.\n",
    "\n",
    "Since we analyze data by local authority we can either drop schools with no data on KS2 or change the missing values to the median of the area. "
   ]
  },
  {
   "cell_type": "code",
   "execution_count": 13,
   "metadata": {},
   "outputs": [],
   "source": [
    "#remove \"%\"\n",
    "df['perc_high_score'] = df['perc_high_score'].str.replace('%','')\n",
    "\n",
    "#replace SUPP to none\n",
    "df['perc_high_score'] = df['perc_high_score'].str.replace('SUPP','9999')\n",
    "\n",
    "#fill in missing values as none for now\n",
    "df['perc_high_score'] = df['perc_high_score'].fillna('9999')\n",
    "\n",
    "#change type from object to float\n",
    "df['perc_high_score'] = df['perc_high_score'].astype('float')"
   ]
  },
  {
   "cell_type": "code",
   "execution_count": 15,
   "metadata": {},
   "outputs": [],
   "source": [
    "#find median for percentage high score for each la and create dict\n",
    "dict_median = df[df['perc_high_score'] != 9999].groupby('la')['perc_high_score'].median().to_dict()\n",
    "\n",
    "#create function\n",
    "def fillnaforks2results(row):\n",
    "    if row[row['perc_high_score'] != 9999]:\n",
    "        return dict_median.get(row['la'])\n",
    "    return row['perc_high_score']\n",
    "\n",
    "#apply function to fill nan with median value of the local authority\n",
    "df['perc_high_score'] = df.apply(fillnaforks2results, axis = 1)"
   ]
  },
  {
   "cell_type": "code",
   "execution_count": 16,
   "metadata": {},
   "outputs": [
    {
     "data": {
      "text/html": [
       "<div>\n",
       "<style scoped>\n",
       "    .dataframe tbody tr th:only-of-type {\n",
       "        vertical-align: middle;\n",
       "    }\n",
       "\n",
       "    .dataframe tbody tr th {\n",
       "        vertical-align: top;\n",
       "    }\n",
       "\n",
       "    .dataframe thead th {\n",
       "        text-align: right;\n",
       "    }\n",
       "</style>\n",
       "<table border=\"1\" class=\"dataframe\">\n",
       "  <thead>\n",
       "    <tr style=\"text-align: right;\">\n",
       "      <th></th>\n",
       "      <th>urn</th>\n",
       "      <th>la</th>\n",
       "      <th>name</th>\n",
       "      <th>district</th>\n",
       "      <th>academy_flag</th>\n",
       "      <th>num_reception</th>\n",
       "      <th>perc_fsm</th>\n",
       "      <th>perc_non_eng_lang</th>\n",
       "      <th>perc_br_wh_origin</th>\n",
       "      <th>perc_high_score</th>\n",
       "    </tr>\n",
       "  </thead>\n",
       "  <tbody>\n",
       "    <tr>\n",
       "      <th>79</th>\n",
       "      <td>100995</td>\n",
       "      <td>Wandsworth</td>\n",
       "      <td>Alderbrook Primary School</td>\n",
       "      <td>Wandsworth</td>\n",
       "      <td>LA Maintained</td>\n",
       "      <td>53</td>\n",
       "      <td>19.6</td>\n",
       "      <td>42.2</td>\n",
       "      <td>45.5</td>\n",
       "      <td>14.0</td>\n",
       "    </tr>\n",
       "  </tbody>\n",
       "</table>\n",
       "</div>"
      ],
      "text/plain": [
       "       urn          la                       name    district   academy_flag  \\\n",
       "79  100995  Wandsworth  Alderbrook Primary School  Wandsworth  LA Maintained   \n",
       "\n",
       "    num_reception  perc_fsm  perc_non_eng_lang  perc_br_wh_origin  \\\n",
       "79             53      19.6               42.2               45.5   \n",
       "\n",
       "    perc_high_score  \n",
       "79             14.0  "
      ]
     },
     "execution_count": 16,
     "metadata": {},
     "output_type": "execute_result"
    }
   ],
   "source": [
    "df.sample()"
   ]
  },
  {
   "cell_type": "markdown",
   "metadata": {},
   "source": [
    "## Exploratory data analysis"
   ]
  },
  {
   "cell_type": "markdown",
   "metadata": {},
   "source": [
    "### Key metrics analysis"
   ]
  },
  {
   "cell_type": "code",
   "execution_count": 56,
   "metadata": {},
   "outputs": [
    {
     "data": {
      "text/html": [
       "<div>\n",
       "<style scoped>\n",
       "    .dataframe tbody tr th:only-of-type {\n",
       "        vertical-align: middle;\n",
       "    }\n",
       "\n",
       "    .dataframe tbody tr th {\n",
       "        vertical-align: top;\n",
       "    }\n",
       "\n",
       "    .dataframe thead th {\n",
       "        text-align: right;\n",
       "    }\n",
       "</style>\n",
       "<table border=\"1\" class=\"dataframe\">\n",
       "  <thead>\n",
       "    <tr style=\"text-align: right;\">\n",
       "      <th></th>\n",
       "      <th>num_reception</th>\n",
       "      <th>perc_fsm</th>\n",
       "      <th>perc_non_eng_lang</th>\n",
       "      <th>perc_br_wh_origin</th>\n",
       "      <th>perc_high_score</th>\n",
       "    </tr>\n",
       "  </thead>\n",
       "  <tbody>\n",
       "    <tr>\n",
       "      <th>count</th>\n",
       "      <td>1814.0</td>\n",
       "      <td>1814.0</td>\n",
       "      <td>1814.0</td>\n",
       "      <td>1814.0</td>\n",
       "      <td>1814.0</td>\n",
       "    </tr>\n",
       "    <tr>\n",
       "      <th>mean</th>\n",
       "      <td>52.9</td>\n",
       "      <td>18.9</td>\n",
       "      <td>47.1</td>\n",
       "      <td>41.8</td>\n",
       "      <td>13.1</td>\n",
       "    </tr>\n",
       "    <tr>\n",
       "      <th>std</th>\n",
       "      <td>30.4</td>\n",
       "      <td>11.2</td>\n",
       "      <td>22.5</td>\n",
       "      <td>22.1</td>\n",
       "      <td>2.6</td>\n",
       "    </tr>\n",
       "    <tr>\n",
       "      <th>min</th>\n",
       "      <td>0.0</td>\n",
       "      <td>0.0</td>\n",
       "      <td>1.2</td>\n",
       "      <td>0.0</td>\n",
       "      <td>8.0</td>\n",
       "    </tr>\n",
       "    <tr>\n",
       "      <th>25%</th>\n",
       "      <td>30.0</td>\n",
       "      <td>10.4</td>\n",
       "      <td>28.9</td>\n",
       "      <td>23.6</td>\n",
       "      <td>11.0</td>\n",
       "    </tr>\n",
       "    <tr>\n",
       "      <th>50%</th>\n",
       "      <td>55.5</td>\n",
       "      <td>17.0</td>\n",
       "      <td>45.6</td>\n",
       "      <td>41.9</td>\n",
       "      <td>13.0</td>\n",
       "    </tr>\n",
       "    <tr>\n",
       "      <th>75%</th>\n",
       "      <td>61.0</td>\n",
       "      <td>26.6</td>\n",
       "      <td>63.6</td>\n",
       "      <td>59.1</td>\n",
       "      <td>15.0</td>\n",
       "    </tr>\n",
       "    <tr>\n",
       "      <th>max</th>\n",
       "      <td>239.0</td>\n",
       "      <td>64.1</td>\n",
       "      <td>100.0</td>\n",
       "      <td>100.0</td>\n",
       "      <td>29.0</td>\n",
       "    </tr>\n",
       "  </tbody>\n",
       "</table>\n",
       "</div>"
      ],
      "text/plain": [
       "       num_reception  perc_fsm  perc_non_eng_lang  perc_br_wh_origin  \\\n",
       "count         1814.0    1814.0             1814.0             1814.0   \n",
       "mean            52.9      18.9               47.1               41.8   \n",
       "std             30.4      11.2               22.5               22.1   \n",
       "min              0.0       0.0                1.2                0.0   \n",
       "25%             30.0      10.4               28.9               23.6   \n",
       "50%             55.5      17.0               45.6               41.9   \n",
       "75%             61.0      26.6               63.6               59.1   \n",
       "max            239.0      64.1              100.0              100.0   \n",
       "\n",
       "       perc_high_score  \n",
       "count           1814.0  \n",
       "mean              13.1  \n",
       "std                2.6  \n",
       "min                8.0  \n",
       "25%               11.0  \n",
       "50%               13.0  \n",
       "75%               15.0  \n",
       "max               29.0  "
      ]
     },
     "execution_count": 56,
     "metadata": {},
     "output_type": "execute_result"
    }
   ],
   "source": [
    "round(df.describe(),1)"
   ]
  },
  {
   "cell_type": "code",
   "execution_count": 64,
   "metadata": {},
   "outputs": [],
   "source": [
    "#let's check distribution of each parametr\n",
    "def distribution(x,color,name, bins):\n",
    "    plt.figure(figsize=(8,4))\n",
    "    sns.histplot(data = df, x = x, color = color, bins = bins)\n",
    "    title(name)"
   ]
  },
  {
   "cell_type": "code",
   "execution_count": 69,
   "metadata": {},
   "outputs": [
    {
     "data": {
      "image/png": "[encoded data removed]",
      "text/plain": [
       "<Figure size 576x288 with 1 Axes>"
      ]
     },
     "metadata": {},
     "output_type": "display_data"
    }
   ],
   "source": [
    "distribution('num_reception','gold','Distribution of number of pupils in the reception class', 30)"
   ]
  },
  {
   "cell_type": "markdown",
   "metadata": {},
   "source": [
    "**Number of pupils in the reception class**\n",
    "\n",
    "Mean is 52.9, median is 55.5, the members of a group are not very much different. And in this parameter standard deviation is highest.\n",
    "\n",
    "The distribution looks normal, the most common number of pupils is 30, which makes sense as the max number of students in one class is 30. We can assume that sometimes there might be several reception classes each for 30 pupils, as the second peak on the histogram is 60 and around 90.\n",
    "\n",
    "Max number is 239 and looks like outlier, where as min of 0 looks like absence of information (there are 118 schools where number of pupils in reception is zero)."
   ]
  },
  {
   "cell_type": "code",
   "execution_count": 72,
   "metadata": {},
   "outputs": [
    {
     "data": {
      "image/png": "[encoded data removed]",
      "text/plain": [
       "<Figure size 576x288 with 1 Axes>"
      ]
     },
     "metadata": {},
     "output_type": "display_data"
    }
   ],
   "source": [
    "distribution('perc_fsm','green','Distribution of percentage of pupils with free school meals', 20)"
   ]
  },
  {
   "cell_type": "markdown",
   "metadata": {},
   "source": [
    "**Percentage of pupils with free school meals**\n",
    "\n",
    "The distribution of percentage of pupils with free school meals looks normal. The peak is around 15%.\n",
    "\n",
    "Median is 17% and mean is 18.9%, which shows that the members of a group are not very much different.\n",
    "\n",
    "Min is 0 (The Noam Primary School in Barnet), and max is 64.1% (Paxton Academy Sports And Science in Croydon)"
   ]
  },
  {
   "cell_type": "code",
   "execution_count": 78,
   "metadata": {},
   "outputs": [
    {
     "name": "stdout",
     "output_type": "stream",
     "text": [
      "School with highest percentage of free school meals\n"
     ]
    },
    {
     "data": {
      "text/html": [
       "<div>\n",
       "<style scoped>\n",
       "    .dataframe tbody tr th:only-of-type {\n",
       "        vertical-align: middle;\n",
       "    }\n",
       "\n",
       "    .dataframe tbody tr th {\n",
       "        vertical-align: top;\n",
       "    }\n",
       "\n",
       "    .dataframe thead th {\n",
       "        text-align: right;\n",
       "    }\n",
       "</style>\n",
       "<table border=\"1\" class=\"dataframe\">\n",
       "  <thead>\n",
       "    <tr style=\"text-align: right;\">\n",
       "      <th></th>\n",
       "      <th>urn</th>\n",
       "      <th>la</th>\n",
       "      <th>name</th>\n",
       "      <th>district</th>\n",
       "      <th>academy_flag</th>\n",
       "      <th>num_reception</th>\n",
       "      <th>perc_fsm</th>\n",
       "      <th>perc_non_eng_lang</th>\n",
       "      <th>perc_br_wh_origin</th>\n",
       "      <th>perc_high_score</th>\n",
       "    </tr>\n",
       "  </thead>\n",
       "  <tbody>\n",
       "    <tr>\n",
       "      <th>1457</th>\n",
       "      <td>140967</td>\n",
       "      <td>Croydon</td>\n",
       "      <td>Paxton Academy Sports And Science</td>\n",
       "      <td>Croydon</td>\n",
       "      <td>Academy</td>\n",
       "      <td>18</td>\n",
       "      <td>64.1</td>\n",
       "      <td>41.4</td>\n",
       "      <td>15.5</td>\n",
       "      <td>11.0</td>\n",
       "    </tr>\n",
       "  </tbody>\n",
       "</table>\n",
       "</div>"
      ],
      "text/plain": [
       "         urn       la                               name district  \\\n",
       "1457  140967  Croydon  Paxton Academy Sports And Science  Croydon   \n",
       "\n",
       "     academy_flag  num_reception  perc_fsm  perc_non_eng_lang  \\\n",
       "1457      Academy             18      64.1               41.4   \n",
       "\n",
       "      perc_br_wh_origin  perc_high_score  \n",
       "1457               15.5             11.0  "
      ]
     },
     "metadata": {},
     "output_type": "display_data"
    },
    {
     "name": "stdout",
     "output_type": "stream",
     "text": [
      "School with zero percentage of free school meals\n"
     ]
    },
    {
     "data": {
      "text/html": [
       "<div>\n",
       "<style scoped>\n",
       "    .dataframe tbody tr th:only-of-type {\n",
       "        vertical-align: middle;\n",
       "    }\n",
       "\n",
       "    .dataframe tbody tr th {\n",
       "        vertical-align: top;\n",
       "    }\n",
       "\n",
       "    .dataframe thead th {\n",
       "        text-align: right;\n",
       "    }\n",
       "</style>\n",
       "<table border=\"1\" class=\"dataframe\">\n",
       "  <thead>\n",
       "    <tr style=\"text-align: right;\">\n",
       "      <th></th>\n",
       "      <th>urn</th>\n",
       "      <th>la</th>\n",
       "      <th>name</th>\n",
       "      <th>district</th>\n",
       "      <th>academy_flag</th>\n",
       "      <th>num_reception</th>\n",
       "      <th>perc_fsm</th>\n",
       "      <th>perc_non_eng_lang</th>\n",
       "      <th>perc_br_wh_origin</th>\n",
       "      <th>perc_high_score</th>\n",
       "    </tr>\n",
       "  </thead>\n",
       "  <tbody>\n",
       "    <tr>\n",
       "      <th>554</th>\n",
       "      <td>146803</td>\n",
       "      <td>Barnet</td>\n",
       "      <td>The Noam Primary School</td>\n",
       "      <td>Barnet</td>\n",
       "      <td>LA Maintained</td>\n",
       "      <td>28</td>\n",
       "      <td>0.0</td>\n",
       "      <td>25.0</td>\n",
       "      <td>100.0</td>\n",
       "      <td>14.0</td>\n",
       "    </tr>\n",
       "  </tbody>\n",
       "</table>\n",
       "</div>"
      ],
      "text/plain": [
       "        urn      la                     name district   academy_flag  \\\n",
       "554  146803  Barnet  The Noam Primary School   Barnet  LA Maintained   \n",
       "\n",
       "     num_reception  perc_fsm  perc_non_eng_lang  perc_br_wh_origin  \\\n",
       "554             28       0.0               25.0              100.0   \n",
       "\n",
       "     perc_high_score  \n",
       "554             14.0  "
      ]
     },
     "metadata": {},
     "output_type": "display_data"
    }
   ],
   "source": [
    "print('School with highest percentage of free school meals')\n",
    "display(df[df['perc_fsm'] == 64.1])\n",
    "\n",
    "print('School with zero percentage of free school meals')\n",
    "display(df[df['perc_fsm'] == 0])"
   ]
  },
  {
   "cell_type": "code",
   "execution_count": 81,
   "metadata": {},
   "outputs": [
    {
     "data": {
      "image/png": "[encoded data removed]",
      "text/plain": [
       "<Figure size 576x288 with 1 Axes>"
      ]
     },
     "metadata": {},
     "output_type": "display_data"
    }
   ],
   "source": [
    "distribution('perc_non_eng_lang','coral','Distribution of percentage of pupils whose first language is not English', 10)"
   ]
  },
  {
   "cell_type": "markdown",
   "metadata": {},
   "source": [
    "**Percentage of pupils whose first language is not English**\n",
    "\n",
    "The distribution of percentage of pupils whose first language is not English looks normal. The peak values are 20% to 60%.\n",
    "\n",
    "Median is 17% and mean is 18.9%, which shows that the members of a group are not very much different.\n",
    "\n",
    "Min is 1.2% (Cudham Church of England Primary School in Bromley), and max is 100% (Kobi Nazrul Primary School in Tower Hamlets)"
   ]
  },
  {
   "cell_type": "code",
   "execution_count": 83,
   "metadata": {},
   "outputs": [
    {
     "name": "stdout",
     "output_type": "stream",
     "text": [
      "School with highest percentage of pupils whose first language is not English\n"
     ]
    },
    {
     "data": {
      "text/html": [
       "<div>\n",
       "<style scoped>\n",
       "    .dataframe tbody tr th:only-of-type {\n",
       "        vertical-align: middle;\n",
       "    }\n",
       "\n",
       "    .dataframe tbody tr th {\n",
       "        vertical-align: top;\n",
       "    }\n",
       "\n",
       "    .dataframe thead th {\n",
       "        text-align: right;\n",
       "    }\n",
       "</style>\n",
       "<table border=\"1\" class=\"dataframe\">\n",
       "  <thead>\n",
       "    <tr style=\"text-align: right;\">\n",
       "      <th></th>\n",
       "      <th>urn</th>\n",
       "      <th>la</th>\n",
       "      <th>name</th>\n",
       "      <th>district</th>\n",
       "      <th>academy_flag</th>\n",
       "      <th>num_reception</th>\n",
       "      <th>perc_fsm</th>\n",
       "      <th>perc_non_eng_lang</th>\n",
       "      <th>perc_br_wh_origin</th>\n",
       "      <th>perc_high_score</th>\n",
       "    </tr>\n",
       "  </thead>\n",
       "  <tbody>\n",
       "    <tr>\n",
       "      <th>381</th>\n",
       "      <td>100940</td>\n",
       "      <td>Tower Hamlets</td>\n",
       "      <td>Kobi Nazrul Primary School</td>\n",
       "      <td>Tower Hamlets</td>\n",
       "      <td>LA Maintained</td>\n",
       "      <td>30</td>\n",
       "      <td>16.2</td>\n",
       "      <td>100.0</td>\n",
       "      <td>0.0</td>\n",
       "      <td>13.0</td>\n",
       "    </tr>\n",
       "  </tbody>\n",
       "</table>\n",
       "</div>"
      ],
      "text/plain": [
       "        urn             la                        name       district  \\\n",
       "381  100940  Tower Hamlets  Kobi Nazrul Primary School  Tower Hamlets   \n",
       "\n",
       "      academy_flag  num_reception  perc_fsm  perc_non_eng_lang  \\\n",
       "381  LA Maintained             30      16.2              100.0   \n",
       "\n",
       "     perc_br_wh_origin  perc_high_score  \n",
       "381                0.0             13.0  "
      ]
     },
     "metadata": {},
     "output_type": "display_data"
    },
    {
     "name": "stdout",
     "output_type": "stream",
     "text": [
      "School with lowest percentage of pupils whose first language is not English\n"
     ]
    },
    {
     "data": {
      "text/html": [
       "<div>\n",
       "<style scoped>\n",
       "    .dataframe tbody tr th:only-of-type {\n",
       "        vertical-align: middle;\n",
       "    }\n",
       "\n",
       "    .dataframe tbody tr th {\n",
       "        vertical-align: top;\n",
       "    }\n",
       "\n",
       "    .dataframe thead th {\n",
       "        text-align: right;\n",
       "    }\n",
       "</style>\n",
       "<table border=\"1\" class=\"dataframe\">\n",
       "  <thead>\n",
       "    <tr style=\"text-align: right;\">\n",
       "      <th></th>\n",
       "      <th>urn</th>\n",
       "      <th>la</th>\n",
       "      <th>name</th>\n",
       "      <th>district</th>\n",
       "      <th>academy_flag</th>\n",
       "      <th>num_reception</th>\n",
       "      <th>perc_fsm</th>\n",
       "      <th>perc_non_eng_lang</th>\n",
       "      <th>perc_br_wh_origin</th>\n",
       "      <th>perc_high_score</th>\n",
       "    </tr>\n",
       "  </thead>\n",
       "  <tbody>\n",
       "    <tr>\n",
       "      <th>255</th>\n",
       "      <td>141896</td>\n",
       "      <td>Bromley</td>\n",
       "      <td>Cudham Church of England Primary School</td>\n",
       "      <td>Bromley</td>\n",
       "      <td>Academy</td>\n",
       "      <td>14</td>\n",
       "      <td>12.2</td>\n",
       "      <td>1.2</td>\n",
       "      <td>92.7</td>\n",
       "      <td>15.0</td>\n",
       "    </tr>\n",
       "  </tbody>\n",
       "</table>\n",
       "</div>"
      ],
      "text/plain": [
       "        urn       la                                     name district  \\\n",
       "255  141896  Bromley  Cudham Church of England Primary School  Bromley   \n",
       "\n",
       "    academy_flag  num_reception  perc_fsm  perc_non_eng_lang  \\\n",
       "255      Academy             14      12.2                1.2   \n",
       "\n",
       "     perc_br_wh_origin  perc_high_score  \n",
       "255               92.7             15.0  "
      ]
     },
     "metadata": {},
     "output_type": "display_data"
    }
   ],
   "source": [
    "print('School with highest percentage of pupils whose first language is not English')\n",
    "display(df[df['perc_non_eng_lang'] == 100])\n",
    "\n",
    "print('School with lowest percentage of pupils whose first language is not English')\n",
    "display(df[df['perc_non_eng_lang'] == 1.2])"
   ]
  },
  {
   "cell_type": "code",
   "execution_count": 85,
   "metadata": {},
   "outputs": [
    {
     "data": {
      "image/png": "[encoded data removed]",
      "text/plain": [
       "<Figure size 576x288 with 1 Axes>"
      ]
     },
     "metadata": {},
     "output_type": "display_data"
    }
   ],
   "source": [
    "distribution('perc_br_wh_origin','gray','Distribution of percentage of pupils whose origin is British or white', 10)"
   ]
  },
  {
   "cell_type": "markdown",
   "metadata": {},
   "source": [
    "**Percentage of pupils whose origin is British or white**\n",
    "\n",
    "Majority of the schools have at least 20% to 70% of pupils whose origin is British or white.\n",
    "\n",
    "Mean and median is almost the same, 41.8%-41.9%, the distribution is even across London."
   ]
  },
  {
   "cell_type": "code",
   "execution_count": 52,
   "metadata": {},
   "outputs": [
    {
     "data": {
      "image/png": "[encoded data removed]",
      "text/plain": [
       "<Figure size 576x288 with 1 Axes>"
      ]
     },
     "metadata": {},
     "output_type": "display_data"
    }
   ],
   "source": [
    "distribution('perc_high_score','navy','Distribution of percentage of pupils whose score is higher than average')"
   ]
  },
  {
   "cell_type": "code",
   "execution_count": 35,
   "metadata": {},
   "outputs": [
    {
     "data": {
      "text/html": [
       "<div>\n",
       "<style scoped>\n",
       "    .dataframe tbody tr th:only-of-type {\n",
       "        vertical-align: middle;\n",
       "    }\n",
       "\n",
       "    .dataframe tbody tr th {\n",
       "        vertical-align: top;\n",
       "    }\n",
       "\n",
       "    .dataframe thead th {\n",
       "        text-align: right;\n",
       "    }\n",
       "</style>\n",
       "<table border=\"1\" class=\"dataframe\">\n",
       "  <thead>\n",
       "    <tr style=\"text-align: right;\">\n",
       "      <th></th>\n",
       "      <th>num_reception</th>\n",
       "      <th>perc_fsm</th>\n",
       "      <th>perc_non_eng_lang</th>\n",
       "      <th>perc_br_wh_origin</th>\n",
       "      <th>perc_high_score</th>\n",
       "    </tr>\n",
       "  </thead>\n",
       "  <tbody>\n",
       "    <tr>\n",
       "      <th>count</th>\n",
       "      <td>1814.0</td>\n",
       "      <td>1814.0</td>\n",
       "      <td>1814.0</td>\n",
       "      <td>1814.0</td>\n",
       "      <td>1814.0</td>\n",
       "    </tr>\n",
       "    <tr>\n",
       "      <th>mean</th>\n",
       "      <td>52.9</td>\n",
       "      <td>18.9</td>\n",
       "      <td>47.1</td>\n",
       "      <td>41.8</td>\n",
       "      <td>13.1</td>\n",
       "    </tr>\n",
       "    <tr>\n",
       "      <th>std</th>\n",
       "      <td>30.4</td>\n",
       "      <td>11.2</td>\n",
       "      <td>22.5</td>\n",
       "      <td>22.1</td>\n",
       "      <td>2.6</td>\n",
       "    </tr>\n",
       "    <tr>\n",
       "      <th>min</th>\n",
       "      <td>0.0</td>\n",
       "      <td>0.0</td>\n",
       "      <td>1.2</td>\n",
       "      <td>0.0</td>\n",
       "      <td>8.0</td>\n",
       "    </tr>\n",
       "    <tr>\n",
       "      <th>25%</th>\n",
       "      <td>30.0</td>\n",
       "      <td>10.4</td>\n",
       "      <td>28.9</td>\n",
       "      <td>23.6</td>\n",
       "      <td>11.0</td>\n",
       "    </tr>\n",
       "    <tr>\n",
       "      <th>50%</th>\n",
       "      <td>55.5</td>\n",
       "      <td>17.0</td>\n",
       "      <td>45.6</td>\n",
       "      <td>41.9</td>\n",
       "      <td>13.0</td>\n",
       "    </tr>\n",
       "    <tr>\n",
       "      <th>75%</th>\n",
       "      <td>61.0</td>\n",
       "      <td>26.6</td>\n",
       "      <td>63.6</td>\n",
       "      <td>59.1</td>\n",
       "      <td>15.0</td>\n",
       "    </tr>\n",
       "    <tr>\n",
       "      <th>max</th>\n",
       "      <td>239.0</td>\n",
       "      <td>64.1</td>\n",
       "      <td>100.0</td>\n",
       "      <td>100.0</td>\n",
       "      <td>29.0</td>\n",
       "    </tr>\n",
       "  </tbody>\n",
       "</table>\n",
       "</div>"
      ],
      "text/plain": [
       "       num_reception  perc_fsm  perc_non_eng_lang  perc_br_wh_origin  \\\n",
       "count         1814.0    1814.0             1814.0             1814.0   \n",
       "mean            52.9      18.9               47.1               41.8   \n",
       "std             30.4      11.2               22.5               22.1   \n",
       "min              0.0       0.0                1.2                0.0   \n",
       "25%             30.0      10.4               28.9               23.6   \n",
       "50%             55.5      17.0               45.6               41.9   \n",
       "75%             61.0      26.6               63.6               59.1   \n",
       "max            239.0      64.1              100.0              100.0   \n",
       "\n",
       "       perc_high_score  \n",
       "count           1814.0  \n",
       "mean              13.1  \n",
       "std                2.6  \n",
       "min                8.0  \n",
       "25%               11.0  \n",
       "50%               13.0  \n",
       "75%               15.0  \n",
       "max               29.0  "
      ]
     },
     "execution_count": 35,
     "metadata": {},
     "output_type": "execute_result"
    }
   ],
   "source": []
  },
  {
   "cell_type": "code",
   "execution_count": 55,
   "metadata": {},
   "outputs": [
    {
     "data": {
      "image/png": "[encoded data removed]",
      "text/plain": [
       "<Figure size 360x576 with 2 Axes>"
      ]
     },
     "metadata": {},
     "output_type": "display_data"
    }
   ],
   "source": [
    "#correlation matrix\n",
    "\n",
    "corr = round(df.corr(),2)\n",
    "mask = np.zeros_like(corr)\n",
    "mask[np.triu_indices_from(mask)] = True\n",
    "with sns.axes_style(\"white\"):\n",
    "    f, ax = plt.subplots(figsize=(5, 8))\n",
    "    cmap = sns.diverging_palette(220, 20, as_cmap=True)\n",
    "    ax = sns.heatmap(corr, mask=mask, square=True, annot = True, linewidth = 1,\n",
    "                     cmap=cmap,cbar=True,cbar_kws={\"shrink\": .52},vmin=-0.9, vmax=0.5)\n",
    "    title('Correlation matrix')"
   ]
  },
  {
   "cell_type": "markdown",
   "metadata": {},
   "source": [
    "Correlation matrix shows that the highest negative dependency is between `percentage of pupils of white origin` and `percentage of pupils whose first language is not English`. This makes sense as the more pupils are white / British the higher is percentage of first language being English (or lower percentage of students whose first language is NOT English).\n",
    "\n",
    "Also there is relatively high correlation between `percentage of pupils of white origin` and `percentage of students receiving  free school meals` (-0.47), the higher is number of pupils of white origin the lower is percentage of students receiving benefits from the government.\n",
    "\n",
    "Low positive correlation can be noted between `percentage of pupils of white origin` and `percentage of students receiving high scores`. Also the higher is `percentage of students receiving free school meals` the higher is `percentage of students whose first language is not English`.\n",
    "\n",
    "Overall, it should be stressed out that this statistics is only for one period, therefore to draw more reliable conclusion more periods should be analyzed. "
   ]
  },
  {
   "cell_type": "markdown",
   "metadata": {},
   "source": [
    "Let's create subset of local authority areas with the following parameters:\n",
    "- number of schools, \n",
    "- median number of pupils in the reception class, \n",
    "- median percentage of pupils with FSM (free school meals), \n",
    "- median percentage of pupils of white origin and \n",
    "- median percentage of pupils with English being not the first language \n",
    "- median percentage of pupils achieving a high score in reading and maths and working at greater depth in writing\n",
    "\n",
    "We will add these parameters on the map."
   ]
  },
  {
   "cell_type": "code",
   "execution_count": null,
   "metadata": {},
   "outputs": [],
   "source": [
    "number_of_schools_in_la = df.groupby('la').agg({'urn':'count',\n",
    "                                                'num_reception':'median',\n",
    "                                                'perc_fsm':'median',\n",
    "                                                'perc_br_wh_origin':'median',\n",
    "                                                'perc_non_eng_lang':'median',\n",
    "                                               'perc_high_score':'median'}).reset_index()\n",
    "number_of_schools_in_la.columns = ['la', 'num_schools', 'num_reception', 'perc_fsm', 'perc_br_wh_origin',\n",
    "       'perc_non_eng_lang', 'perc_high_score']\n",
    "number_of_schools_in_la.head(5)"
   ]
  },
  {
   "cell_type": "code",
   "execution_count": null,
   "metadata": {},
   "outputs": [],
   "source": [
    "number_of_schools_in_la"
   ]
  },
  {
   "cell_type": "markdown",
   "metadata": {},
   "source": [
    "### Choropleth map"
   ]
  },
  {
   "cell_type": "markdown",
   "metadata": {},
   "source": [
    "Let's create heatmap using json file."
   ]
  },
  {
   "cell_type": "code",
   "execution_count": null,
   "metadata": {},
   "outputs": [],
   "source": [
    "with urlopen('https://skgrange.github.io/www/data/london_boroughs.json') as response:\n",
    "    geo = json.load(response)\n",
    "\n",
    "#Let us check the keys of this JSON\n",
    "geo[\"features\"][0].keys()"
   ]
  },
  {
   "cell_type": "code",
   "execution_count": null,
   "metadata": {},
   "outputs": [],
   "source": [
    "#The properties key should contain the district name. Let’s verify that\n",
    "display(geo[\"features\"][0]['properties'].keys())\n",
    "\n",
    "#check the precision of the coordinates\n",
    "geo[\"features\"][0]['geometry']['coordinates'][0][0][0]"
   ]
  },
  {
   "cell_type": "code",
   "execution_count": null,
   "metadata": {},
   "outputs": [],
   "source": [
    "#names of the boroughs to extract\n",
    "geo_names = [geo['features'][k]['properties']['name'] for k in range(len(geo['features']))]\n",
    "\n",
    "#The list sources contains the coordinates for all parts of the city. \n",
    "#We will later hand over this list to the Mapbox object in order to present the respective districts\n",
    "source=[{\"type\": \"Feature\", 'features': [feat]} for feat in geo['features']]"
   ]
  },
  {
   "cell_type": "code",
   "execution_count": null,
   "metadata": {},
   "outputs": [],
   "source": [
    "#create choropleth map with buttons\n",
    "\n",
    "kwargs = dict(geojson=geo, locations=number_of_schools_in_la.la, z=number_of_schools_in_la.num_schools,\n",
    "              colorscale=\"YlGnBu\", zmin=number_of_schools_in_la.num_schools.min(), \n",
    "              zmax=number_of_schools_in_la.num_schools.max(), \n",
    "              featureidkey=\"properties.name\", marker_opacity=0.5, marker_line_width=0)\n",
    "\n",
    "switch_args = [dict(z = number_of_schools_in_la.perc_fsm, colorscale = 'YlGnBu', \n",
    "                    zmin=number_of_schools_in_la.perc_fsm.min(), zmax=number_of_schools_in_la.perc_fsm.max()),\n",
    "              dict(z = number_of_schools_in_la.num_reception, colorscale = 'YlGnBu',\n",
    "                   zmin=number_of_schools_in_la.num_reception.min(), zmax=number_of_schools_in_la.num_reception.max())]\n",
    "\n",
    "buttons = [dict(label = 'total number of schools', method = 'restyle', args = [{'visible': [True, False, False]}]),\n",
    "           dict(label = 'median percentage of FSM', method = 'restyle', args = [{'visible': [False, True, False]}]),\n",
    "           dict(label = 'median number of pupils at reception', method = 'restyle', args = [{'visible': [False, False, True]}])]\n",
    "\n",
    "objects = [go.Choroplethmapbox(visible = True,**kwargs)]\n",
    "for i in [0, 1]:\n",
    "    kwargs.update(switch_args[i])\n",
    "    objects.append(go.Choroplethmapbox(visible = False,**kwargs))\n",
    "    \n",
    "fig = go.Figure(data = objects)\n",
    "\n",
    "fig.update_layout()\n",
    "fig.update_layout(mapbox_style=\"carto-positron\", mapbox_zoom=8.5, mapbox_center = {\"lat\": 51.5074, \"lon\": 0.1278},\n",
    "                  margin={\"r\":0,\"t\":100,\"l\":0,\"b\":0}, title = dict(text = 'LONDON MAP', font_size = 20),\n",
    "                  annotations = [dict(text = 'Parameter:', yref = 'paper', yanchor = 'middle', xref = 'paper', \n",
    "                                      xanchor = 'right', showarrow = False, font_size = 16, y = 1.055, x = 0.15)],\n",
    "                  updatemenus = [dict(type = 'buttons', direction = 'right', showactive = True, \n",
    "                                      y = 1.05, yanchor = 'middle', x = 0.165, xanchor = 'left', buttons = buttons)])\n",
    "fig.show()"
   ]
  },
  {
   "cell_type": "code",
   "execution_count": null,
   "metadata": {},
   "outputs": [],
   "source": [
    "#create choropleth map with buttons\n",
    "\n",
    "kwargs = dict(geojson=geo, locations=number_of_schools_in_la.la, z=number_of_schools_in_la.perc_br_wh_origin,\n",
    "              colorscale=\"YlGnBu\", zmin=number_of_schools_in_la.perc_br_wh_origin.min(), \n",
    "              zmax=number_of_schools_in_la.perc_br_wh_origin.max(), \n",
    "              featureidkey=\"properties.name\", marker_opacity=0.5, marker_line_width=0)\n",
    "\n",
    "switch_args = [dict(z = number_of_schools_in_la.perc_non_eng_lang, colorscale = 'YlGnBu', \n",
    "                    zmin=number_of_schools_in_la.perc_non_eng_lang.min(), \n",
    "                    zmax=number_of_schools_in_la.perc_non_eng_lang.max()),\n",
    "              dict(z = number_of_schools_in_la.perc_high_score, colorscale = 'YlGnBu',\n",
    "                   zmin=number_of_schools_in_la.perc_high_score.min(), \n",
    "                   zmax=number_of_schools_in_la.perc_high_score.max())]\n",
    "\n",
    "buttons = [dict(label = 'median percentage of white origin', method = 'restyle', \n",
    "                args = [{'visible': [True, False, False]}]),\n",
    "           dict(label = 'median percentage of English not being first language', \n",
    "                method = 'restyle', args = [{'visible': [False, True, False]}]),\n",
    "           dict(label = 'median percentage of pupils achieving a high score', method = 'restyle', \n",
    "                args = [{'visible': [False, False, True]}])]\n",
    "\n",
    "objects = [go.Choroplethmapbox(visible = True,**kwargs)]\n",
    "for i in [0, 1]:\n",
    "    kwargs.update(switch_args[i])\n",
    "    objects.append(go.Choroplethmapbox(visible = False,**kwargs))\n",
    "    \n",
    "fig = go.Figure(data = objects)\n",
    "\n",
    "fig.update_layout()\n",
    "fig.update_layout(mapbox_style=\"carto-positron\", mapbox_zoom=8.5, mapbox_center = {\"lat\": 51.5074, \"lon\": 0.1278},\n",
    "                  margin={\"r\":0,\"t\":100,\"l\":0,\"b\":0}, title = dict(text = 'LONDON MAP', font_size = 20),\n",
    "                  annotations = [dict(text = 'Parameter:', yref = 'paper', yanchor = 'middle', xref = 'paper', \n",
    "                                      xanchor = 'right', showarrow = False, font_size = 16, y = 1.055, x = 0.15)],\n",
    "                  updatemenus = [dict(type = 'buttons', direction = 'right', showactive = True, \n",
    "                                      y = 1.05, yanchor = 'middle', x = 0.165, xanchor = 'left', buttons = buttons)])\n",
    "fig.show()"
   ]
  },
  {
   "cell_type": "markdown",
   "metadata": {},
   "source": []
  },
  {
   "cell_type": "code",
   "execution_count": null,
   "metadata": {},
   "outputs": [],
   "source": [
    "number_of_schools_in_la.H"
   ]
  },
  {
   "cell_type": "markdown",
   "metadata": {},
   "source": [
    "## Results"
   ]
  },
  {
   "cell_type": "code",
   "execution_count": null,
   "metadata": {},
   "outputs": [],
   "source": [
    "df.info()"
   ]
  },
  {
   "cell_type": "code",
   "execution_count": null,
   "metadata": {},
   "outputs": [],
   "source": [
    "df.describe()"
   ]
  },
  {
   "cell_type": "code",
   "execution_count": null,
   "metadata": {},
   "outputs": [],
   "source": []
  },
  {
   "cell_type": "code",
   "execution_count": null,
   "metadata": {},
   "outputs": [],
   "source": [
    "fig, axes = plt.subplots(2, 2, figsize=(23, 10))\n",
    "fig.suptitle('category', size = 20, color = 'gray')\n",
    "sns.histplot(ax = axes[0,0], data = df, x = 'num_reception', hue = 'size')\n",
    "sns.histplot(ax = axes[0,1], data = df, x = '%_fcm', hue = 'size')\n",
    "sns.histplot(ax = axes[1,0], data = df, x = '%_br_wh_origin', hue = 'size')\n",
    "sns.histplot(ax = axes[1,1], data = df, x = '%_non_eng_lang, hue = 'size'')\n",
    "plt.subplots_adjust(wspace=0.1, hspace=0.2)\n",
    "plt.show()"
   ]
  },
  {
   "cell_type": "code",
   "execution_count": null,
   "metadata": {},
   "outputs": [],
   "source": [
    "df.groupby('size')['urn'].count().reset_index().sort_values(by = 'size')"
   ]
  },
  {
   "cell_type": "code",
   "execution_count": null,
   "metadata": {},
   "outputs": [],
   "source": []
  }
 ],
 "metadata": {
  "kernelspec": {
   "display_name": "Python 3",
   "language": "python",
   "name": "python3"
  },
  "language_info": {
   "codemirror_mode": {
    "name": "ipython",
    "version": 3
   },
   "file_extension": ".py",
   "mimetype": "text/x-python",
   "name": "python",
   "nbconvert_exporter": "python",
   "pygments_lexer": "ipython3",
   "version": "3.7.6"
  },
  "toc": {
   "base_numbering": 1,
   "nav_menu": {},
   "number_sections": true,
   "sideBar": true,
   "skip_h1_title": false,
   "title_cell": "Table of Contents",
   "title_sidebar": "Contents",
   "toc_cell": true,
   "toc_position": {},
   "toc_section_display": true,
   "toc_window_display": true
  },
  "varInspector": {
   "cols": {
    "lenName": 16,
    "lenType": 16,
    "lenVar": 40
   },
   "kernels_config": {
    "python": {
     "delete_cmd_postfix": "",
     "delete_cmd_prefix": "del ",
     "library": "var_list.py",
     "varRefreshCmd": "print(var_dic_list())"
    },
    "r": {
     "delete_cmd_postfix": ") ",
     "delete_cmd_prefix": "rm(",
     "library": "var_list.r",
     "varRefreshCmd": "cat(var_dic_list()) "
    }
   },
   "types_to_exclude": [
    "module",
    "function",
    "builtin_function_or_method",
    "instance",
    "_Feature"
   ],
   "window_display": false
  }
 },
 "nbformat": 4,
 "nbformat_minor": 4
}
